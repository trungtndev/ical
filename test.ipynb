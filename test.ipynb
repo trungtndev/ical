{
 "cells": [
  {
   "cell_type": "code",
   "id": "initial_id",
   "metadata": {
    "collapsed": true,
    "ExecuteTime": {
     "end_time": "2024-10-09T10:13:09.601641Z",
     "start_time": "2024-10-09T10:13:06.053980Z"
    }
   },
   "source": [
    "import torch\n",
    "\n",
    "from ical.model.kan_convolutional.KANConv import KAN_Convolutional_Layer\n",
    "from ical.model.kan_convolutional.KANLinear import KANLinear\n",
    "from ical.model.encoder import Encoder\n",
    "from ical.model.KanConvEnocder import KanConvEncoder"
   ],
   "outputs": [],
   "execution_count": 2
  },
  {
   "metadata": {},
   "cell_type": "code",
   "outputs": [],
   "execution_count": null,
   "source": "",
   "id": "8852704029ef2dd7"
  },
  {
   "metadata": {
    "ExecuteTime": {
     "end_time": "2024-10-09T10:13:11.709916Z",
     "start_time": "2024-10-09T10:13:11.682428Z"
    }
   },
   "cell_type": "code",
   "source": "mdl = KanConvEncoder(512)",
   "id": "cddfa82c9094f2cd",
   "outputs": [],
   "execution_count": 4
  },
  {
   "metadata": {
    "ExecuteTime": {
     "end_time": "2024-10-09T10:13:13.162697Z",
     "start_time": "2024-10-09T10:13:13.149073Z"
    }
   },
   "cell_type": "code",
   "source": "sum(p.numel() for p in mdl.parameters())\n",
   "id": "d9861bd35405a9a3",
   "outputs": [
    {
     "data": {
      "text/plain": [
       "398776"
      ]
     },
     "execution_count": 5,
     "metadata": {},
     "output_type": "execute_result"
    }
   ],
   "execution_count": 5
  },
  {
   "metadata": {
    "ExecuteTime": {
     "end_time": "2024-10-09T10:13:40.594469Z",
     "start_time": "2024-10-09T10:13:29.044979Z"
    }
   },
   "cell_type": "code",
   "source": "a = mdl(image, mask)",
   "id": "b9519bd9ae6dc14e",
   "outputs": [],
   "execution_count": 9
  },
  {
   "metadata": {
    "ExecuteTime": {
     "end_time": "2024-10-09T10:13:42.868369Z",
     "start_time": "2024-10-09T10:13:42.827369Z"
    }
   },
   "cell_type": "code",
   "source": "a[0].shape",
   "id": "a4c6cf72a90ba79d",
   "outputs": [
    {
     "data": {
      "text/plain": [
       "torch.Size([10, 7, 7, 512])"
      ]
     },
     "execution_count": 10,
     "metadata": {},
     "output_type": "execute_result"
    }
   ],
   "execution_count": 10
  },
  {
   "metadata": {
    "ExecuteTime": {
     "end_time": "2024-10-09T10:13:44.162083Z",
     "start_time": "2024-10-09T10:13:44.145864Z"
    }
   },
   "cell_type": "code",
   "source": "a[1].shape",
   "id": "f8e72c5b8d213187",
   "outputs": [
    {
     "data": {
      "text/plain": [
       "torch.Size([10, 7, 7])"
      ]
     },
     "execution_count": 11,
     "metadata": {},
     "output_type": "execute_result"
    }
   ],
   "execution_count": 11
  },
  {
   "metadata": {
    "ExecuteTime": {
     "end_time": "2024-10-09T10:13:17.433500Z",
     "start_time": "2024-10-09T10:13:17.414332Z"
    }
   },
   "cell_type": "code",
   "source": [
    "image = torch.rand(10, 1, 224, 224)\n",
    "mask = torch.ones(10, 224, 224, dtype=torch.bool)"
   ],
   "id": "c10422117dc5eeed",
   "outputs": [],
   "execution_count": 7
  },
  {
   "metadata": {
    "ExecuteTime": {
     "end_time": "2024-10-09T09:00:47.485451Z",
     "start_time": "2024-10-09T09:00:46.549498Z"
    }
   },
   "cell_type": "code",
   "source": [
    "encoder = Encoder(512, 24, 16)\n",
    "out = encoder(image, mask)\n",
    "print(out[0].shape)\n",
    "print(out[1].shape)"
   ],
   "id": "27e9427483636eda",
   "outputs": [
    {
     "name": "stdout",
     "output_type": "stream",
     "text": [
      "torch.Size([10, 14, 14, 512])\n",
      "torch.Size([10, 14, 14])\n"
     ]
    }
   ],
   "execution_count": 33
  },
  {
   "metadata": {
    "ExecuteTime": {
     "end_time": "2024-10-09T09:58:03.934527Z",
     "start_time": "2024-10-09T09:58:03.922501Z"
    }
   },
   "cell_type": "code",
   "source": "mask[:, 0::4, 0::4][:, 0::2, 0::2][:, 0::2, 0::2][:, 0::2, 0::2].shape",
   "id": "bddaab3a8c6a34d2",
   "outputs": [
    {
     "data": {
      "text/plain": [
       "torch.Size([10, 7, 7])"
      ]
     },
     "execution_count": 55,
     "metadata": {},
     "output_type": "execute_result"
    }
   ],
   "execution_count": 55
  }
 ],
 "metadata": {
  "kernelspec": {
   "display_name": "Python 3",
   "language": "python",
   "name": "python3"
  },
  "language_info": {
   "codemirror_mode": {
    "name": "ipython",
    "version": 2
   },
   "file_extension": ".py",
   "mimetype": "text/x-python",
   "name": "python",
   "nbconvert_exporter": "python",
   "pygments_lexer": "ipython2",
   "version": "2.7.6"
  }
 },
 "nbformat": 4,
 "nbformat_minor": 5
}
