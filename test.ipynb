{
 "cells": [
  {
   "cell_type": "code",
   "id": "initial_id",
   "metadata": {
    "collapsed": true,
    "ExecuteTime": {
     "end_time": "2024-10-09T14:24:50.926948Z",
     "start_time": "2024-10-09T14:24:48.762125Z"
    }
   },
   "source": [
    "import torch\n",
    "import torch.nn as nn\n",
    "\n",
    "from ical.model.kan_convolutional.KANConv import KAN_Convolutional_Layer\n",
    "from ical.model.kan_convolutional.KANLinear import KANLinear\n",
    "from ical.model.encoder import Encoder\n",
    "from ical.model.KanConvEnocder import KanConvEncoder"
   ],
   "outputs": [],
   "execution_count": 1
  },
  {
   "metadata": {
    "ExecuteTime": {
     "end_time": "2024-10-09T14:24:50.946408Z",
     "start_time": "2024-10-09T14:24:50.930778Z"
    }
   },
   "cell_type": "code",
   "source": "kan_conv = KanConvEncoder(512)\n",
   "id": "8852704029ef2dd7",
   "outputs": [],
   "execution_count": 2
  },
  {
   "metadata": {
    "ExecuteTime": {
     "end_time": "2024-10-09T14:24:58.062637Z",
     "start_time": "2024-10-09T14:24:55.801601Z"
    }
   },
   "cell_type": "code",
   "source": "a = kan_conv(image, mask)",
   "id": "b9519bd9ae6dc14e",
   "outputs": [],
   "execution_count": 5
  },
  {
   "metadata": {
    "ExecuteTime": {
     "end_time": "2024-10-09T14:24:58.978041Z",
     "start_time": "2024-10-09T14:24:58.964814Z"
    }
   },
   "cell_type": "code",
   "source": "a[0].shape",
   "id": "a343e8efa0b90d04",
   "outputs": [
    {
     "data": {
      "text/plain": [
       "torch.Size([10, 28, 28, 512])"
      ]
     },
     "execution_count": 6,
     "metadata": {},
     "output_type": "execute_result"
    }
   ],
   "execution_count": 6
  },
  {
   "metadata": {
    "ExecuteTime": {
     "end_time": "2024-10-09T14:25:00.009409Z",
     "start_time": "2024-10-09T14:24:59.993378Z"
    }
   },
   "cell_type": "code",
   "source": "a[1].shape",
   "id": "f8e72c5b8d213187",
   "outputs": [
    {
     "data": {
      "text/plain": [
       "torch.Size([10, 28, 28])"
      ]
     },
     "execution_count": 7,
     "metadata": {},
     "output_type": "execute_result"
    }
   ],
   "execution_count": 7
  },
  {
   "metadata": {
    "ExecuteTime": {
     "end_time": "2024-10-09T14:24:52.077193Z",
     "start_time": "2024-10-09T14:24:52.064676Z"
    }
   },
   "cell_type": "code",
   "source": [
    "image = torch.rand(10, 1, 224, 224)\n",
    "mask = torch.ones(10, 224, 224, dtype=torch.bool)"
   ],
   "id": "c10422117dc5eeed",
   "outputs": [],
   "execution_count": 3
  },
  {
   "metadata": {
    "ExecuteTime": {
     "end_time": "2024-10-09T09:00:47.485451Z",
     "start_time": "2024-10-09T09:00:46.549498Z"
    }
   },
   "cell_type": "code",
   "source": [
    "encoder = Encoder(512, 24, 16)\n",
    "out = encoder(image, mask)\n",
    "print(out[0].shape)\n",
    "print(out[1].shape)"
   ],
   "id": "27e9427483636eda",
   "outputs": [
    {
     "name": "stdout",
     "output_type": "stream",
     "text": [
      "torch.Size([10, 14, 14, 512])\n",
      "torch.Size([10, 14, 14])\n"
     ]
    }
   ],
   "execution_count": 33
  },
  {
   "metadata": {
    "ExecuteTime": {
     "end_time": "2024-10-09T09:58:03.934527Z",
     "start_time": "2024-10-09T09:58:03.922501Z"
    }
   },
   "cell_type": "code",
   "source": "mask[:, 0::4, 0::4][:, 0::2, 0::2][:, 0::2, 0::2][:, 0::2, 0::2].shape",
   "id": "bddaab3a8c6a34d2",
   "outputs": [
    {
     "data": {
      "text/plain": [
       "torch.Size([10, 7, 7])"
      ]
     },
     "execution_count": 55,
     "metadata": {},
     "output_type": "execute_result"
    }
   ],
   "execution_count": 55
  }
 ],
 "metadata": {
  "kernelspec": {
   "display_name": "Python 3",
   "language": "python",
   "name": "python3"
  },
  "language_info": {
   "codemirror_mode": {
    "name": "ipython",
    "version": 2
   },
   "file_extension": ".py",
   "mimetype": "text/x-python",
   "name": "python",
   "nbconvert_exporter": "python",
   "pygments_lexer": "ipython2",
   "version": "2.7.6"
  }
 },
 "nbformat": 4,
 "nbformat_minor": 5
}
